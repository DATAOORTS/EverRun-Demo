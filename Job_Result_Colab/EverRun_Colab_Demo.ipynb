{
  "nbformat": 4,
  "nbformat_minor": 0,
  "metadata": {
    "colab": {
      "provenance": []
    },
    "kernelspec": {
      "name": "python3",
      "display_name": "Python 3"
    },
    "language_info": {
      "name": "python"
    }
  },
  "cells": [
    {
      "cell_type": "markdown",
      "source": [
        "# EverRun Colab Demo"
      ],
      "metadata": {
        "id": "TEf_GmdNMjUn"
      }
    },
    {
      "cell_type": "code",
      "execution_count": 42,
      "metadata": {
        "colab": {
          "base_uri": "https://localhost:8080/"
        },
        "id": "aTY-eM8DFm7G",
        "outputId": "125dd8f2-c9c8-4c36-c023-f730965d03ad"
      },
      "outputs": [
        {
          "output_type": "stream",
          "name": "stdout",
          "text": [
            "5\n",
            "10\n",
            "15\n",
            "20\n",
            "25\n",
            "30\n",
            "35\n",
            "40\n",
            "45\n"
          ]
        }
      ],
      "source": [
        "# number.txt\n",
        "\n",
        "# The list of numbers to write to the numbers.txt\n",
        "numbers = [5, 10, 15, 20, 25, 30, 35, 40, 45]\n",
        "\n",
        "# Join the numbers into a single column\n",
        "numbers_in_column = '\\n'.join(map(str, numbers)) + '\\n'\n",
        "\n",
        "# Create file numbers.txt\n",
        "with open('numbers.txt', 'w') as file:\n",
        "    file.write(numbers_in_column)\n",
        "\n",
        "# print numbers in numbers.txt\n",
        "!cat numbers.txt"
      ]
    },
    {
      "cell_type": "code",
      "source": [
        "# helping.py\n",
        "\n",
        "import sys\n",
        "\n",
        "def python_version():\n",
        "    print(\"Python version:\", sys.version)\n",
        "\n",
        "def fibonacci(n):\n",
        "    if n <= 1:\n",
        "        return n\n",
        "    else:\n",
        "        return fibonacci(n-1) + fibonacci(n-2)\n",
        "\n",
        "def fibonacci_box(input_file=\"numbers.txt\", output_file=\"output.txt\"):   # For Getting all values in output.txt{Auto-Generate} file\n",
        "    with open(input_file, \"r\") as infile:\n",
        "        numbers = [int(line.strip()) for line in infile]\n",
        "\n",
        "    with open(output_file, \"w\") as outfile:\n",
        "        for num in numbers:\n",
        "            result = fibonacci(num)\n",
        "            outfile.write(f\"Fibonacci({num}) = {result}\\n\")"
      ],
      "metadata": {
        "id": "JJDicDrIGszE"
      },
      "execution_count": 43,
      "outputs": []
    },
    {
      "cell_type": "code",
      "source": [
        "# main.py\n",
        "\n",
        "import time\n",
        "import subprocess\n",
        "\n",
        "start_time = time.time()\n",
        "\n",
        "python_version()  # This will print Current Python Version\n",
        "fibonacci_box()   # This will print Fibonacci sequence of numbers inside numbers.txt file at output.txt file\n",
        "\n",
        "end_time = time.time()\n",
        "execution_time = end_time - start_time\n",
        "\n",
        "!uname -a\n",
        "print(\"numbers.txt\")\n",
        "!cat numbers.txt\n",
        "print(\"output.txt\")\n",
        "!cat output.txt\n",
        "print(\"Task Completed Successfully\")\n",
        "print(\"Total execution time:\", execution_time, \"seconds\")"
      ],
      "metadata": {
        "colab": {
          "base_uri": "https://localhost:8080/"
        },
        "id": "skEA345wHMlc",
        "outputId": "6a214682-b242-4c03-8788-c58bad3480ab"
      },
      "execution_count": 44,
      "outputs": [
        {
          "output_type": "stream",
          "name": "stdout",
          "text": [
            "Python version: 3.10.12 (main, Nov 20 2023, 15:14:05) [GCC 11.4.0]\n",
            "Linux 1236e889efb7 6.1.58+ #1 SMP PREEMPT_DYNAMIC Sat Nov 18 15:31:17 UTC 2023 x86_64 x86_64 x86_64 GNU/Linux\n",
            "numbers.txt\n",
            "5\n",
            "10\n",
            "15\n",
            "20\n",
            "25\n",
            "30\n",
            "35\n",
            "40\n",
            "45\n",
            "output.txt\n",
            "Fibonacci(5) = 5\n",
            "Fibonacci(10) = 55\n",
            "Fibonacci(15) = 610\n",
            "Fibonacci(20) = 6765\n",
            "Fibonacci(25) = 75025\n",
            "Fibonacci(30) = 832040\n",
            "Fibonacci(35) = 9227465\n",
            "Fibonacci(40) = 102334155\n",
            "Fibonacci(45) = 1134903170\n",
            "Task Completed Successfully\n",
            "Total execution time: 571.3036754131317 seconds\n"
          ]
        }
      ]
    },
    {
      "cell_type": "code",
      "source": [],
      "metadata": {
        "id": "di2Q5AocKv8x"
      },
      "execution_count": null,
      "outputs": []
    }
  ]
}